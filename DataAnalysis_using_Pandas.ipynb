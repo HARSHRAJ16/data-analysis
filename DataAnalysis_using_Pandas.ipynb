{
  "nbformat": 4,
  "nbformat_minor": 0,
  "metadata": {
    "colab": {
      "name": "DataAnalysis_using_Pandas.ipynb",
      "provenance": [],
      "collapsed_sections": [],
      "authorship_tag": "ABX9TyNI+FPMYp3443c3Z9e4AUj9",
      "include_colab_link": true
    },
    "kernelspec": {
      "name": "python3",
      "display_name": "Python 3"
    }
  },
  "cells": [
    {
      "cell_type": "markdown",
      "metadata": {
        "id": "view-in-github",
        "colab_type": "text"
      },
      "source": [
        "<a href=\"https://colab.research.google.com/github/internship-bvoc2020/data-analysis/blob/master/DataAnalysis_using_Pandas.ipynb\" target=\"_parent\"><img src=\"https://colab.research.google.com/assets/colab-badge.svg\" alt=\"Open In Colab\"/></a>"
      ]
    },
    {
      "cell_type": "markdown",
      "metadata": {
        "id": "0Hp-pNnB-swa",
        "colab_type": "text"
      },
      "source": [
        "**Importing** **Libraries**"
      ]
    },
    {
      "cell_type": "code",
      "metadata": {
        "id": "eQB2qOkYSYtf",
        "colab_type": "code",
        "colab": {}
      },
      "source": [
        "import pandas as pd\n",
        "import numpy as np"
      ],
      "execution_count": 0,
      "outputs": []
    },
    {
      "cell_type": "markdown",
      "metadata": {
        "id": "eTBXpV-K_H_d",
        "colab_type": "text"
      },
      "source": [
        "**Reading Cars datafile & performing basic checks on data file**\n"
      ]
    },
    {
      "cell_type": "code",
      "metadata": {
        "id": "ET7aoGxf-wdI",
        "colab_type": "code",
        "colab": {}
      },
      "source": [
        "df_csv = pd.read_csv(\"cars.csv\",sep=\";\")"
      ],
      "execution_count": 0,
      "outputs": []
    },
    {
      "cell_type": "code",
      "metadata": {
        "id": "hXOm5IEMS4-P",
        "colab_type": "code",
        "outputId": "12eac5e9-108f-4344-a31e-ac1cc6891934",
        "colab": {
          "base_uri": "https://localhost:8080/",
          "height": 67
        }
      },
      "source": [
        "df_csv.columns"
      ],
      "execution_count": 120,
      "outputs": [
        {
          "output_type": "execute_result",
          "data": {
            "text/plain": [
              "Index(['Car', 'MPG', 'Cylinders', 'Displacement', 'Horsepower', 'Weight',\n",
              "       'Acceleration', 'Model', 'Origin'],\n",
              "      dtype='object')"
            ]
          },
          "metadata": {
            "tags": []
          },
          "execution_count": 120
        }
      ]
    },
    {
      "cell_type": "code",
      "metadata": {
        "id": "1yv7rKCZAgOq",
        "colab_type": "code",
        "colab": {
          "base_uri": "https://localhost:8080/",
          "height": 195
        },
        "outputId": "6a8b2c63-4d14-4003-adcd-c2e681b57174"
      },
      "source": [
        "df_csv.head()"
      ],
      "execution_count": 121,
      "outputs": [
        {
          "output_type": "execute_result",
          "data": {
            "text/html": [
              "<div>\n",
              "<style scoped>\n",
              "    .dataframe tbody tr th:only-of-type {\n",
              "        vertical-align: middle;\n",
              "    }\n",
              "\n",
              "    .dataframe tbody tr th {\n",
              "        vertical-align: top;\n",
              "    }\n",
              "\n",
              "    .dataframe thead th {\n",
              "        text-align: right;\n",
              "    }\n",
              "</style>\n",
              "<table border=\"1\" class=\"dataframe\">\n",
              "  <thead>\n",
              "    <tr style=\"text-align: right;\">\n",
              "      <th></th>\n",
              "      <th>Car</th>\n",
              "      <th>MPG</th>\n",
              "      <th>Cylinders</th>\n",
              "      <th>Displacement</th>\n",
              "      <th>Horsepower</th>\n",
              "      <th>Weight</th>\n",
              "      <th>Acceleration</th>\n",
              "      <th>Model</th>\n",
              "      <th>Origin</th>\n",
              "    </tr>\n",
              "  </thead>\n",
              "  <tbody>\n",
              "    <tr>\n",
              "      <th>0</th>\n",
              "      <td>Chevrolet Chevelle Malibu</td>\n",
              "      <td>18.0</td>\n",
              "      <td>8</td>\n",
              "      <td>307.0</td>\n",
              "      <td>130.0</td>\n",
              "      <td>3504.0</td>\n",
              "      <td>12.0</td>\n",
              "      <td>70</td>\n",
              "      <td>US</td>\n",
              "    </tr>\n",
              "    <tr>\n",
              "      <th>1</th>\n",
              "      <td>Buick Skylark 320</td>\n",
              "      <td>15.0</td>\n",
              "      <td>8</td>\n",
              "      <td>350.0</td>\n",
              "      <td>165.0</td>\n",
              "      <td>3693.0</td>\n",
              "      <td>11.5</td>\n",
              "      <td>70</td>\n",
              "      <td>US</td>\n",
              "    </tr>\n",
              "    <tr>\n",
              "      <th>2</th>\n",
              "      <td>Plymouth Satellite</td>\n",
              "      <td>18.0</td>\n",
              "      <td>8</td>\n",
              "      <td>318.0</td>\n",
              "      <td>150.0</td>\n",
              "      <td>3436.0</td>\n",
              "      <td>11.0</td>\n",
              "      <td>70</td>\n",
              "      <td>US</td>\n",
              "    </tr>\n",
              "    <tr>\n",
              "      <th>3</th>\n",
              "      <td>AMC Rebel SST</td>\n",
              "      <td>16.0</td>\n",
              "      <td>8</td>\n",
              "      <td>304.0</td>\n",
              "      <td>150.0</td>\n",
              "      <td>3433.0</td>\n",
              "      <td>12.0</td>\n",
              "      <td>70</td>\n",
              "      <td>US</td>\n",
              "    </tr>\n",
              "    <tr>\n",
              "      <th>4</th>\n",
              "      <td>Ford Torino</td>\n",
              "      <td>17.0</td>\n",
              "      <td>8</td>\n",
              "      <td>302.0</td>\n",
              "      <td>140.0</td>\n",
              "      <td>3449.0</td>\n",
              "      <td>10.5</td>\n",
              "      <td>70</td>\n",
              "      <td>US</td>\n",
              "    </tr>\n",
              "  </tbody>\n",
              "</table>\n",
              "</div>"
            ],
            "text/plain": [
              "                         Car   MPG  Cylinders  ...  Acceleration  Model  Origin\n",
              "0  Chevrolet Chevelle Malibu  18.0          8  ...          12.0     70      US\n",
              "1          Buick Skylark 320  15.0          8  ...          11.5     70      US\n",
              "2         Plymouth Satellite  18.0          8  ...          11.0     70      US\n",
              "3              AMC Rebel SST  16.0          8  ...          12.0     70      US\n",
              "4                Ford Torino  17.0          8  ...          10.5     70      US\n",
              "\n",
              "[5 rows x 9 columns]"
            ]
          },
          "metadata": {
            "tags": []
          },
          "execution_count": 121
        }
      ]
    },
    {
      "cell_type": "markdown",
      "metadata": {
        "id": "zwAdyQS7Cvjm",
        "colab_type": "text"
      },
      "source": [
        "**Cars data file basic sanity check using Data frame Operations & Features**"
      ]
    },
    {
      "cell_type": "code",
      "metadata": {
        "id": "yDgNbx3GApDf",
        "colab_type": "code",
        "colab": {
          "base_uri": "https://localhost:8080/",
          "height": 252
        },
        "outputId": "6e4fbac9-7729-4e0a-e28a-16af0c8a2ede"
      },
      "source": [
        "print('Number of records in dataframe is given by len(df_csv) function :'+str(len(df_csv)))\n",
        "print('Dataframe records and columns count shaoe function :'+str(df_csv.shape))\n",
        "print('Dataframe total objects count using size function :'+str(df_csv.size))\n",
        "print('Dataframe each index and column individual counts are given by df_csv.count(axis=0or1)\\n'+str(df_csv.count(axis=0)))"
      ],
      "execution_count": 122,
      "outputs": [
        {
          "output_type": "stream",
          "text": [
            "Number of records in dataframe is given by len(df_csv) function :406\n",
            "Dataframe records and columns count shaoe function :(406, 9)\n",
            "Dataframe total objects count using size function :3654\n",
            "Dataframe each index and column individual counts are given by df_csv.count(axis=0or1)\n",
            "Car             406\n",
            "MPG             406\n",
            "Cylinders       406\n",
            "Displacement    406\n",
            "Horsepower      406\n",
            "Weight          406\n",
            "Acceleration    406\n",
            "Model           406\n",
            "Origin          406\n",
            "dtype: int64\n"
          ],
          "name": "stdout"
        }
      ]
    },
    {
      "cell_type": "markdown",
      "metadata": {
        "id": "zr3hzfT_Dk8H",
        "colab_type": "text"
      },
      "source": [
        "**Acessing Dataframe objects**"
      ]
    },
    {
      "cell_type": "code",
      "metadata": {
        "id": "exfMofCbDdom",
        "colab_type": "code",
        "colab": {}
      },
      "source": [
        "print('\\n Tail function gives last few records in a dataframe df_csv.tail()\\n :'+str(df_csv.tail()))\n",
        "print('\\nAccessing rows of a particular column of Dataframe using indexer for ex df_csv.ix[3:10,\\'Car\\']\\n'+str(df_csv.loc[3:10,'Car']))"
      ],
      "execution_count": 0,
      "outputs": []
    },
    {
      "cell_type": "markdown",
      "metadata": {
        "id": "fsbO4iGsEWFm",
        "colab_type": "text"
      },
      "source": [
        "**Transposing a Dataframe i.e. Row becomes columns and columns becomes** **rows**"
      ]
    },
    {
      "cell_type": "code",
      "metadata": {
        "id": "UT3qJxpDEGtg",
        "colab_type": "code",
        "colab": {}
      },
      "source": [
        "df_csv.T"
      ],
      "execution_count": 0,
      "outputs": []
    },
    {
      "cell_type": "code",
      "metadata": {
        "id": "ciH_ojlbERDv",
        "colab_type": "code",
        "colab": {}
      },
      "source": [
        "df_csv.T.shape"
      ],
      "execution_count": 0,
      "outputs": []
    },
    {
      "cell_type": "markdown",
      "metadata": {
        "id": "VI8TqPI0Er84",
        "colab_type": "text"
      },
      "source": [
        "**Adding New column in dataframe**"
      ]
    },
    {
      "cell_type": "code",
      "metadata": {
        "id": "5GCY8_f8Eipu",
        "colab_type": "code",
        "colab": {}
      },
      "source": [
        "df_csv['NetHPWt'] = df_csv['Horsepower'] + df_csv['Weight']\n",
        "df_csv.columns"
      ],
      "execution_count": 0,
      "outputs": []
    },
    {
      "cell_type": "markdown",
      "metadata": {
        "id": "Q-f9QXaFE81B",
        "colab_type": "text"
      },
      "source": [
        "**Pivoting in Dataframe**"
      ]
    },
    {
      "cell_type": "code",
      "metadata": {
        "id": "aqXUM8i4FPph",
        "colab_type": "code",
        "colab": {}
      },
      "source": [
        "df_csv[['Car','Acceleration','Origin']].head()"
      ],
      "execution_count": 0,
      "outputs": []
    },
    {
      "cell_type": "code",
      "metadata": {
        "id": "_NaaTpVJFA1C",
        "colab_type": "code",
        "colab": {}
      },
      "source": [
        "df_table=pd.pivot_table(df_csv, values='Acceleration', index=['Car'],columns=['Origin'])\n",
        "df_table"
      ],
      "execution_count": 0,
      "outputs": []
    },
    {
      "cell_type": "markdown",
      "metadata": {
        "id": "nnZh9D6AHdXt",
        "colab_type": "text"
      },
      "source": [
        "**Creating Dataframe from json docs**"
      ]
    },
    {
      "cell_type": "code",
      "metadata": {
        "id": "wD8N8EvNHpPE",
        "colab_type": "code",
        "colab": {}
      },
      "source": [
        "df_cars1 = pd.DataFrame({'name': ['bmw', 'lexus', 'ferrari', 'mercedez'],\n",
        "                                'colour': ['red', 'white', 'black', 'blue'],\n",
        "                                'year': ['2012', '2014', '2011', '2016'],\n",
        "                               },index=[0, 1, 2,3])\n",
        "df_cars2 = pd.DataFrame({'name': ['audi', 'hyundai', 'maruti', 'ford'],\n",
        "                                'colour': ['grey', 'brown', 'yellow', 'white'],\n",
        "                                'year': ['2011', '2014', '2012', '2015'],\n",
        "                               },index=[4,5,6,7])\n",
        "df_car_details = pd.DataFrame({'country': ['germany', 'france', 'US', 'UK'],\n",
        "                                'units': ['2500', '4700', '3250', '6470'],\n",
        "                                'variant': ['diesel', 'petrol', 'petrol', 'diesel'],\n",
        "                               },index=[0, 1,2,3])"
      ],
      "execution_count": 0,
      "outputs": []
    },
    {
      "cell_type": "code",
      "metadata": {
        "id": "rg1byBwWHt03",
        "colab_type": "code",
        "colab": {}
      },
      "source": [
        "df_cars1"
      ],
      "execution_count": 0,
      "outputs": []
    },
    {
      "cell_type": "code",
      "metadata": {
        "id": "eSH3TTbjHy8O",
        "colab_type": "code",
        "colab": {}
      },
      "source": [
        "df_cars2"
      ],
      "execution_count": 0,
      "outputs": []
    },
    {
      "cell_type": "code",
      "metadata": {
        "id": "fYJMDj-KH3sw",
        "colab_type": "code",
        "colab": {}
      },
      "source": [
        "df_car_details"
      ],
      "execution_count": 0,
      "outputs": []
    },
    {
      "cell_type": "markdown",
      "metadata": {
        "id": "-wtxJN39IB_o",
        "colab_type": "text"
      },
      "source": [
        "**Concat , Merge & Join operations**"
      ]
    },
    {
      "cell_type": "code",
      "metadata": {
        "id": "_HjCOld-IIob",
        "colab_type": "code",
        "colab": {}
      },
      "source": [
        "#axis 0 = row wise\n",
        "pd.concat([df_cars1,df_cars2],axis=0)"
      ],
      "execution_count": 0,
      "outputs": []
    },
    {
      "cell_type": "code",
      "metadata": {
        "id": "GEqV-hHPIXoM",
        "colab_type": "code",
        "colab": {}
      },
      "source": [
        "#axis 1 = column wise\n",
        "pd.concat([df_cars1,df_cars2],axis=1)"
      ],
      "execution_count": 0,
      "outputs": []
    },
    {
      "cell_type": "markdown",
      "metadata": {
        "id": "w3OVk9HlJSSY",
        "colab_type": "text"
      },
      "source": [
        "Merge Operation\n"
      ]
    },
    {
      "cell_type": "code",
      "metadata": {
        "id": "OIXxueSvJo0A",
        "colab_type": "code",
        "colab": {}
      },
      "source": [
        "#Merges on the joining column ID ,creates different column names\n",
        "pd.merge(df_cars1,df_cars2,how='outer',left_on='year',right_on='year')"
      ],
      "execution_count": 0,
      "outputs": []
    },
    {
      "cell_type": "markdown",
      "metadata": {
        "id": "Ftfnv1zoKgM3",
        "colab_type": "text"
      },
      "source": [
        "Join operation"
      ]
    },
    {
      "cell_type": "code",
      "metadata": {
        "id": "a0EhtWruKax2",
        "colab_type": "code",
        "colab": {}
      },
      "source": [
        "#Joining Dataframe cars 2 to dataframe cars 1\n",
        "pd.DataFrame.join(df_cars1,df_cars2,lsuffix='_left',rsuffix='_right')"
      ],
      "execution_count": 0,
      "outputs": []
    },
    {
      "cell_type": "code",
      "metadata": {
        "id": "CxuiP17JLBX7",
        "colab_type": "code",
        "colab": {}
      },
      "source": [
        "#Joining Dataframe cars 1 to dataframe cars 2\n",
        "pd.DataFrame.join(df_cars2,df_cars1,lsuffix='_left',rsuffix='_right')"
      ],
      "execution_count": 0,
      "outputs": []
    },
    {
      "cell_type": "code",
      "metadata": {
        "id": "PkaKzhLzLODk",
        "colab_type": "code",
        "colab": {}
      },
      "source": [
        " # Joining dataframe car details to cars1 ,having same indexes\n",
        "pd.DataFrame.join(df_cars1,df_car_details)"
      ],
      "execution_count": 0,
      "outputs": []
    },
    {
      "cell_type": "markdown",
      "metadata": {
        "id": "W15A5BUdjGIn",
        "colab_type": "text"
      },
      "source": [
        "## **Data Analysis**"
      ]
    },
    {
      "cell_type": "markdown",
      "metadata": {
        "id": "jg83TR0pjTXm",
        "colab_type": "text"
      },
      "source": [
        "**Problem 1** :Given that First word in the all the 'Car' field represents the company manufacturing the car and rest of the words represent the car model , Find out the different companies with their origins and the total number of models produced by them  "
      ]
    },
    {
      "cell_type": "code",
      "metadata": {
        "id": "9Z7gzq07k-F7",
        "colab_type": "code",
        "colab": {}
      },
      "source": [
        "df_csv[['Company','Model']] = df_csv.Car.str.split(\" \",1,expand=True)"
      ],
      "execution_count": 0,
      "outputs": []
    },
    {
      "cell_type": "code",
      "metadata": {
        "id": "BBzakhDflH3J",
        "colab_type": "code",
        "colab": {}
      },
      "source": [
        "df_csv.head(10)"
      ],
      "execution_count": 0,
      "outputs": []
    },
    {
      "cell_type": "code",
      "metadata": {
        "id": "c_A3NIwolUyM",
        "colab_type": "code",
        "colab": {}
      },
      "source": [
        "df_csv.groupby(['Company','Origin'])['Model'].count()"
      ],
      "execution_count": 0,
      "outputs": []
    },
    {
      "cell_type": "markdown",
      "metadata": {
        "id": "cEVWoMckn0hk",
        "colab_type": "text"
      },
      "source": [
        "**Problem 2**: Find out all the companies of US & Japan that produce cars with Horse power > 100"
      ]
    },
    {
      "cell_type": "code",
      "metadata": {
        "id": "uFfIryeEn0CZ",
        "colab_type": "code",
        "colab": {}
      },
      "source": [
        "#To show all records\n",
        "pd.set_option('display.max_rows', df_csv.shape[0]+1)"
      ],
      "execution_count": 0,
      "outputs": []
    },
    {
      "cell_type": "code",
      "metadata": {
        "id": "eW46xRnjrm4Y",
        "colab_type": "code",
        "colab": {}
      },
      "source": [
        "df_csv.loc[(df_csv['Origin'].isin(['US','Japan'])) & (df_csv['Horsepower'] > 100)][['Company','Origin','Horsepower']]"
      ],
      "execution_count": 0,
      "outputs": []
    },
    {
      "cell_type": "markdown",
      "metadata": {
        "id": "jdBDkpexsCy_",
        "colab_type": "text"
      },
      "source": [
        "**Problem 3** : Which is the most Light weight car in Europe ?"
      ]
    },
    {
      "cell_type": "code",
      "metadata": {
        "id": "UmN52TYZsT1O",
        "colab_type": "code",
        "colab": {}
      },
      "source": [
        "df_csv [(df_csv['Weight'] == df_csv[(df_csv['Origin'] == 'Europe')]['Weight'].min())][['Car','Origin','Weight']]"
      ],
      "execution_count": 0,
      "outputs": []
    }
  ]
}