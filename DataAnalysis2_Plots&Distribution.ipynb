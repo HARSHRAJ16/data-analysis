{
  "nbformat": 4,
  "nbformat_minor": 0,
  "metadata": {
    "colab": {
      "name": "DataAnalysis2-Plots&Distribution.ipynb",
      "provenance": [],
      "collapsed_sections": [],
      "authorship_tag": "ABX9TyPhvuHczvjf4Ezg26Ycj7oS",
      "include_colab_link": true
    },
    "kernelspec": {
      "name": "python3",
      "display_name": "Python 3"
    }
  },
  "cells": [
    {
      "cell_type": "markdown",
      "metadata": {
        "id": "view-in-github",
        "colab_type": "text"
      },
      "source": [
        "<a href=\"https://colab.research.google.com/github/internship-bvoc2020/data-analysis/blob/master/DataAnalysis2_Plots%26Distribution.ipynb\" target=\"_parent\"><img src=\"https://colab.research.google.com/assets/colab-badge.svg\" alt=\"Open In Colab\"/></a>"
      ]
    },
    {
      "cell_type": "markdown",
      "metadata": {
        "id": "dyF7wJbmHj2V",
        "colab_type": "text"
      },
      "source": [
        "### **Import data and basic File overview**"
      ]
    },
    {
      "cell_type": "code",
      "metadata": {
        "id": "c4CWEatw6bYn",
        "colab_type": "code",
        "colab": {}
      },
      "source": [
        "import pandas as pd\n",
        "import matplotlib.pyplot as plt\n",
        "import seaborn as sns"
      ],
      "execution_count": 0,
      "outputs": []
    },
    {
      "cell_type": "code",
      "metadata": {
        "id": "O90QqvXw6oeP",
        "colab_type": "code",
        "colab": {}
      },
      "source": [
        "df_store = pd.read_csv(\"Salesstore.csv\",sep=\"\\t\")"
      ],
      "execution_count": 0,
      "outputs": []
    },
    {
      "cell_type": "code",
      "metadata": {
        "id": "rCpwXsqB7b9u",
        "colab_type": "code",
        "colab": {
          "base_uri": "https://localhost:8080/",
          "height": 101
        },
        "outputId": "d75b327b-0677-4fe0-d39e-a5dd583ed75c"
      },
      "source": [
        "df_store.columns"
      ],
      "execution_count": 11,
      "outputs": [
        {
          "output_type": "execute_result",
          "data": {
            "text/plain": [
              "Index(['Order_ID', 'Order_Priority', 'Order_Quantity', 'Sales', 'Ship_Mode',\n",
              "       'Profit', 'Customer_Name', 'Region', 'Customer_Segment',\n",
              "       'Product_Category', 'Product_Sub-Category', 'Product_Name',\n",
              "       'Product_Container'],\n",
              "      dtype='object')"
            ]
          },
          "metadata": {
            "tags": []
          },
          "execution_count": 11
        }
      ]
    },
    {
      "cell_type": "code",
      "metadata": {
        "id": "r8EFa0-3_CDr",
        "colab_type": "code",
        "colab": {
          "base_uri": "https://localhost:8080/",
          "height": 34
        },
        "outputId": "4ce2fe95-0363-4c33-b4a4-7aeb6ade73d6"
      },
      "source": [
        "df_store.shape"
      ],
      "execution_count": 23,
      "outputs": [
        {
          "output_type": "execute_result",
          "data": {
            "text/plain": [
              "(730, 13)"
            ]
          },
          "metadata": {
            "tags": []
          },
          "execution_count": 23
        }
      ]
    },
    {
      "cell_type": "code",
      "metadata": {
        "id": "JlyJpLl07cAy",
        "colab_type": "code",
        "colab": {
          "base_uri": "https://localhost:8080/",
          "height": 363
        },
        "outputId": "80bd6db7-fc28-4da0-ff4a-ddd900fbbc6c"
      },
      "source": [
        "df_store.head()"
      ],
      "execution_count": 12,
      "outputs": [
        {
          "output_type": "execute_result",
          "data": {
            "text/html": [
              "<div>\n",
              "<style scoped>\n",
              "    .dataframe tbody tr th:only-of-type {\n",
              "        vertical-align: middle;\n",
              "    }\n",
              "\n",
              "    .dataframe tbody tr th {\n",
              "        vertical-align: top;\n",
              "    }\n",
              "\n",
              "    .dataframe thead th {\n",
              "        text-align: right;\n",
              "    }\n",
              "</style>\n",
              "<table border=\"1\" class=\"dataframe\">\n",
              "  <thead>\n",
              "    <tr style=\"text-align: right;\">\n",
              "      <th></th>\n",
              "      <th>Order_ID</th>\n",
              "      <th>Order_Priority</th>\n",
              "      <th>Order_Quantity</th>\n",
              "      <th>Sales</th>\n",
              "      <th>Ship_Mode</th>\n",
              "      <th>Profit</th>\n",
              "      <th>Customer_Name</th>\n",
              "      <th>Region</th>\n",
              "      <th>Customer_Segment</th>\n",
              "      <th>Product_Category</th>\n",
              "      <th>Product_Sub-Category</th>\n",
              "      <th>Product_Name</th>\n",
              "      <th>Product_Container</th>\n",
              "    </tr>\n",
              "  </thead>\n",
              "  <tbody>\n",
              "    <tr>\n",
              "      <th>0</th>\n",
              "      <td>643</td>\n",
              "      <td>High</td>\n",
              "      <td>21</td>\n",
              "      <td>2781.82</td>\n",
              "      <td>Express Air</td>\n",
              "      <td>-695.26</td>\n",
              "      <td>Monica Federle</td>\n",
              "      <td>Nunavut</td>\n",
              "      <td>Corporate</td>\n",
              "      <td>Office Supplies</td>\n",
              "      <td>Storage &amp; Organization</td>\n",
              "      <td>SAFCO Commercial Wire Shelving, Black</td>\n",
              "      <td>Large Box</td>\n",
              "    </tr>\n",
              "    <tr>\n",
              "      <th>1</th>\n",
              "      <td>8995</td>\n",
              "      <td>High</td>\n",
              "      <td>35</td>\n",
              "      <td>3389.93</td>\n",
              "      <td>Express Air</td>\n",
              "      <td>737.94</td>\n",
              "      <td>Beth Paige</td>\n",
              "      <td>Northwest Territories</td>\n",
              "      <td>Consumer</td>\n",
              "      <td>Furniture</td>\n",
              "      <td>Office Furnishings</td>\n",
              "      <td>Luxo Professional Combination Clamp-On Lamps</td>\n",
              "      <td>Large Box</td>\n",
              "    </tr>\n",
              "    <tr>\n",
              "      <th>2</th>\n",
              "      <td>9127</td>\n",
              "      <td>Not Specified</td>\n",
              "      <td>7</td>\n",
              "      <td>2039.56</td>\n",
              "      <td>Express Air</td>\n",
              "      <td>-329.49</td>\n",
              "      <td>Bryan Davis</td>\n",
              "      <td>Northwest Territories</td>\n",
              "      <td>Corporate</td>\n",
              "      <td>Office Supplies</td>\n",
              "      <td>Storage &amp; Organization</td>\n",
              "      <td>Tennsco Snap-Together Open Shelving Units, Sta...</td>\n",
              "      <td>Large Box</td>\n",
              "    </tr>\n",
              "    <tr>\n",
              "      <th>3</th>\n",
              "      <td>26272</td>\n",
              "      <td>Low</td>\n",
              "      <td>6</td>\n",
              "      <td>905.94</td>\n",
              "      <td>Express Air</td>\n",
              "      <td>-4.19</td>\n",
              "      <td>Carlos Daly</td>\n",
              "      <td>Northwest Territories</td>\n",
              "      <td>Home Office</td>\n",
              "      <td>Furniture</td>\n",
              "      <td>Chairs &amp; Chairmats</td>\n",
              "      <td>Hon Olson Stacker Stools</td>\n",
              "      <td>Large Box</td>\n",
              "    </tr>\n",
              "    <tr>\n",
              "      <th>4</th>\n",
              "      <td>36646</td>\n",
              "      <td>Medium</td>\n",
              "      <td>24</td>\n",
              "      <td>1168.15</td>\n",
              "      <td>Express Air</td>\n",
              "      <td>-743.96</td>\n",
              "      <td>Muhammed MacIntyre</td>\n",
              "      <td>Northwest Territories</td>\n",
              "      <td>Small Business</td>\n",
              "      <td>Office Supplies</td>\n",
              "      <td>Storage &amp; Organization</td>\n",
              "      <td>Tennsco Industrial Shelving</td>\n",
              "      <td>Large Box</td>\n",
              "    </tr>\n",
              "  </tbody>\n",
              "</table>\n",
              "</div>"
            ],
            "text/plain": [
              "   Order_ID  ... Product_Container\n",
              "0       643  ...         Large Box\n",
              "1      8995  ...         Large Box\n",
              "2      9127  ...         Large Box\n",
              "3     26272  ...         Large Box\n",
              "4     36646  ...         Large Box\n",
              "\n",
              "[5 rows x 13 columns]"
            ]
          },
          "metadata": {
            "tags": []
          },
          "execution_count": 12
        }
      ]
    },
    {
      "cell_type": "markdown",
      "metadata": {
        "id": "uotp798d8uJa",
        "colab_type": "text"
      },
      "source": [
        "### **Continous Variables vs Categorical Variables**\n",
        "\n",
        "**Continuous variables** are numeric variables that have an any number of values.A continuous variable can be numeric or date/time\n",
        "\n",
        "Eg: In the above Salesstore dataset **Order_Quantity , Sales , Profit** are fields which are examples of Continous variables\n",
        "\n",
        "Usually identified by Unique number of finite values taken or Knowledge of the field/variable \n",
        "\n",
        "**Categorical Variable** also called a nominal variable is one that has two or more categories (finite small set),without any ordering.It can be numeric or string type.\n",
        "\n",
        "Eg: In Salesstore dataset **Order_Priority , Ship_Mode** are examples of Categorical variable.\n",
        "\n",
        "Usually identified as they tend to take a large number of values ( upto number of unique records present) and strictly numeric or decimal"
      ]
    },
    {
      "cell_type": "markdown",
      "metadata": {
        "id": "nNWJ2VEX8bqF",
        "colab_type": "text"
      },
      "source": [
        "**Categorical Variables in the Dataset**\n"
      ]
    },
    {
      "cell_type": "code",
      "metadata": {
        "id": "mGclrEND7ng7",
        "colab_type": "code",
        "colab": {
          "base_uri": "https://localhost:8080/",
          "height": 34
        },
        "outputId": "35f82e56-5ec9-468f-ad7b-da1d5e14955d"
      },
      "source": [
        "#Unique Priority of Orders\n",
        "df_store['Order_Priority'].unique()"
      ],
      "execution_count": 13,
      "outputs": [
        {
          "output_type": "execute_result",
          "data": {
            "text/plain": [
              "array(['High', 'Not Specified', 'Low', 'Medium', 'Critical'], dtype=object)"
            ]
          },
          "metadata": {
            "tags": []
          },
          "execution_count": 13
        }
      ]
    },
    {
      "cell_type": "code",
      "metadata": {
        "id": "jiMSmtJF7nkC",
        "colab_type": "code",
        "colab": {
          "base_uri": "https://localhost:8080/",
          "height": 34
        },
        "outputId": "49c5dea3-0344-4f87-8127-c23d278be3e1"
      },
      "source": [
        "#Various Shipping modes\n",
        "df_store['Ship_Mode'].unique()"
      ],
      "execution_count": 14,
      "outputs": [
        {
          "output_type": "execute_result",
          "data": {
            "text/plain": [
              "array(['Express Air', 'Regular Air'], dtype=object)"
            ]
          },
          "metadata": {
            "tags": []
          },
          "execution_count": 14
        }
      ]
    },
    {
      "cell_type": "code",
      "metadata": {
        "id": "v3HeuS-y7_hD",
        "colab_type": "code",
        "colab": {
          "base_uri": "https://localhost:8080/",
          "height": 50
        },
        "outputId": "a4814207-9f6c-42e2-abf8-a48dfba69618"
      },
      "source": [
        "#Different Regions where sales occured \n",
        "df_store[\"Region\"].unique()"
      ],
      "execution_count": 16,
      "outputs": [
        {
          "output_type": "execute_result",
          "data": {
            "text/plain": [
              "array(['Nunavut', 'Northwest Territories', 'Atlantic', 'West', 'Ontario',\n",
              "       'Prarie'], dtype=object)"
            ]
          },
          "metadata": {
            "tags": []
          },
          "execution_count": 16
        }
      ]
    },
    {
      "cell_type": "code",
      "metadata": {
        "id": "FSJCMZFE7_tR",
        "colab_type": "code",
        "colab": {
          "base_uri": "https://localhost:8080/",
          "height": 50
        },
        "outputId": "c986a7e6-a268-49bf-adbb-a062aca52473"
      },
      "source": [
        "#Various Customer Segments\n",
        "df_store['Customer_Segment'].unique()"
      ],
      "execution_count": 18,
      "outputs": [
        {
          "output_type": "execute_result",
          "data": {
            "text/plain": [
              "array(['Corporate', 'Consumer', 'Home Office', 'Small Business'],\n",
              "      dtype=object)"
            ]
          },
          "metadata": {
            "tags": []
          },
          "execution_count": 18
        }
      ]
    },
    {
      "cell_type": "code",
      "metadata": {
        "id": "0T_-gdBQ8PRk",
        "colab_type": "code",
        "colab": {
          "base_uri": "https://localhost:8080/",
          "height": 34
        },
        "outputId": "aeb6ea46-5f82-44c3-e591-afedd01d9311"
      },
      "source": [
        "#Various Product Categories \n",
        "df_store['Product_Category'].unique()"
      ],
      "execution_count": 19,
      "outputs": [
        {
          "output_type": "execute_result",
          "data": {
            "text/plain": [
              "array(['Office Supplies', 'Furniture', 'Technology'], dtype=object)"
            ]
          },
          "metadata": {
            "tags": []
          },
          "execution_count": 19
        }
      ]
    },
    {
      "cell_type": "code",
      "metadata": {
        "id": "Hx3Kb6CE8Pas",
        "colab_type": "code",
        "colab": {
          "base_uri": "https://localhost:8080/",
          "height": 34
        },
        "outputId": "4c3ea842-0dd5-4efa-8ea3-367bc281a48d"
      },
      "source": [
        "#Product Containers information\n",
        "df_store['Product_Container'].unique()"
      ],
      "execution_count": 20,
      "outputs": [
        {
          "output_type": "execute_result",
          "data": {
            "text/plain": [
              "array(['Large Box', 'Medium Box', 'Small Box'], dtype=object)"
            ]
          },
          "metadata": {
            "tags": []
          },
          "execution_count": 20
        }
      ]
    },
    {
      "cell_type": "markdown",
      "metadata": {
        "id": "0KDj1Mb3-rqT",
        "colab_type": "text"
      },
      "source": [
        "**Continous Variables in dataset**"
      ]
    },
    {
      "cell_type": "code",
      "metadata": {
        "id": "L-H2MSWe-zck",
        "colab_type": "code",
        "colab": {
          "base_uri": "https://localhost:8080/",
          "height": 34
        },
        "outputId": "71d1bff9-9fb0-4731-97b9-817093c7827e"
      },
      "source": [
        "len(df_store['Sales'].unique())"
      ],
      "execution_count": 22,
      "outputs": [
        {
          "output_type": "execute_result",
          "data": {
            "text/plain": [
              "729"
            ]
          },
          "metadata": {
            "tags": []
          },
          "execution_count": 22
        }
      ]
    },
    {
      "cell_type": "code",
      "metadata": {
        "id": "ZAwpsPFq-zl0",
        "colab_type": "code",
        "colab": {
          "base_uri": "https://localhost:8080/",
          "height": 34
        },
        "outputId": "d7c7f7e4-f920-4379-8380-4f7a82d1739c"
      },
      "source": [
        "len(df_store['Order_Quantity'].unique())"
      ],
      "execution_count": 24,
      "outputs": [
        {
          "output_type": "execute_result",
          "data": {
            "text/plain": [
              "50"
            ]
          },
          "metadata": {
            "tags": []
          },
          "execution_count": 24
        }
      ]
    },
    {
      "cell_type": "markdown",
      "metadata": {
        "id": "jGCVWxze8ldG",
        "colab_type": "text"
      },
      "source": [
        "### **Plots**\n",
        "\n",
        "**Seaborn FacetGrid** : takes the given data onto multiple axes arrayed in a grid of rows and columns that correspond to levels of variables in the dataset\n",
        "\n",
        "For more details refer : \n",
        "https://seaborn.pydata.org/generated/seaborn.FacetGrid.html\n",
        "\n",
        "**Histogram plot**:A histogram represents the distribution of data by forming bins along the range of the data and then drawing bars to show the number of observations that fall in each bin\n",
        "\n",
        "**Scatter Plot** :To visualize a bivariate ( 2 variables) distribution , themost effective way is a scatterplot, where each observation is shown with point at the x and y values\n",
        "\n",
        "For more details refer: https://seaborn.pydata.org/tutorial/distributions.html\n"
      ]
    },
    {
      "cell_type": "markdown",
      "metadata": {
        "id": "86-mxXd8RWfE",
        "colab_type": "text"
      },
      "source": [
        "### **Univariate Analysis**\n",
        "\n",
        "Analyzing data with only one variable. It doesn't deal with causes or relationships  and it's major purpose is to describe; it takes data, summarizes that data and finds patterns in the data\n",
        "\n",
        "Plots used are Histograms , Line Chart , Bar Chart (usually with Categorical Data)"
      ]
    },
    {
      "cell_type": "code",
      "metadata": {
        "id": "0bMNRnCiSA59",
        "colab_type": "code",
        "colab": {
          "base_uri": "https://localhost:8080/",
          "height": 474
        },
        "outputId": "65fc264e-ecfd-429e-eb65-19424c576500"
      },
      "source": [
        "#Takes all numerical data (continous or categorical) and plots\n",
        "df_store.hist(figsize=[15,6])"
      ],
      "execution_count": 55,
      "outputs": [
        {
          "output_type": "execute_result",
          "data": {
            "text/plain": [
              "array([[<matplotlib.axes._subplots.AxesSubplot object at 0x7f86d1c4e4e0>,\n",
              "        <matplotlib.axes._subplots.AxesSubplot object at 0x7f86d524c160>],\n",
              "       [<matplotlib.axes._subplots.AxesSubplot object at 0x7f86d1d42240>,\n",
              "        <matplotlib.axes._subplots.AxesSubplot object at 0x7f86d4f2ec50>]],\n",
              "      dtype=object)"
            ]
          },
          "metadata": {
            "tags": []
          },
          "execution_count": 55
        },
        {
          "output_type": "display_data",
          "data": {
            "image/png": "[encoded data removed]",
            "text/plain": [
              "<Figure size 1080x432 with 4 Axes>"
            ]
          },
          "metadata": {
            "tags": [],
            "needs_background": "light"
          }
        }
      ]
    },
    {
      "cell_type": "code",
      "metadata": {
        "id": "murzr_GVVaTf",
        "colab_type": "code",
        "colab": {
          "base_uri": "https://localhost:8080/",
          "height": 334
        },
        "outputId": "dc67cc62-9a9f-4613-e3d4-4c46849483a8"
      },
      "source": [
        "df_store['Product_Container'].value_counts().plot.bar()"
      ],
      "execution_count": 64,
      "outputs": [
        {
          "output_type": "execute_result",
          "data": {
            "text/plain": [
              "<matplotlib.axes._subplots.AxesSubplot at 0x7f86d0fb7668>"
            ]
          },
          "metadata": {
            "tags": []
          },
          "execution_count": 64
        },
        {
          "output_type": "display_data",
          "data": {
            "image/png": "[encoded data removed]",
            "text/plain": [
              "<Figure size 432x288 with 1 Axes>"
            ]
          },
          "metadata": {
            "tags": [],
            "needs_background": "light"
          }
        }
      ]
    },
    {
      "cell_type": "code",
      "metadata": {
        "id": "3qSJbvw7UgZy",
        "colab_type": "code",
        "colab": {
          "base_uri": "https://localhost:8080/",
          "height": 339
        },
        "outputId": "83ebeb2b-87ca-4e43-8f77-b78a71f8e805"
      },
      "source": [
        "df_store['Order_Priority'].value_counts().plot.bar()"
      ],
      "execution_count": 58,
      "outputs": [
        {
          "output_type": "execute_result",
          "data": {
            "text/plain": [
              "<matplotlib.axes._subplots.AxesSubplot at 0x7f86d0bbb0f0>"
            ]
          },
          "metadata": {
            "tags": []
          },
          "execution_count": 58
        },
        {
          "output_type": "display_data",
          "data": {
            "image/png": "[encoded data removed]",
            "text/plain": [
              "<Figure size 432x288 with 1 Axes>"
            ]
          },
          "metadata": {
            "tags": [],
            "needs_background": "light"
          }
        }
      ]
    },
    {
      "cell_type": "code",
      "metadata": {
        "id": "MSQeh5odVRMZ",
        "colab_type": "code",
        "colab": {
          "base_uri": "https://localhost:8080/",
          "height": 348
        },
        "outputId": "60868f8f-f6f6-41be-975a-13f22629e451"
      },
      "source": [
        "df_store['Customer_Segment'].value_counts().plot.bar()"
      ],
      "execution_count": 65,
      "outputs": [
        {
          "output_type": "execute_result",
          "data": {
            "text/plain": [
              "<matplotlib.axes._subplots.AxesSubplot at 0x7f86d0dc19b0>"
            ]
          },
          "metadata": {
            "tags": []
          },
          "execution_count": 65
        },
        {
          "output_type": "display_data",
          "data": {
            "image/png": "[encoded data removed]",
            "text/plain": [
              "<Figure size 432x288 with 1 Axes>"
            ]
          },
          "metadata": {
            "tags": [],
            "needs_background": "light"
          }
        }
      ]
    },
    {
      "cell_type": "markdown",
      "metadata": {
        "id": "OVwSjXFZQ7Sv",
        "colab_type": "text"
      },
      "source": [
        "### **Bivariate Analysis**\n",
        "\n",
        "Bivariate analysis is the simultaneous analysis of two variables (columns/fields). Evaluates the relationship between two variables, whether there exists an association and the strength of this association, or whether there are differences between two variables and the significance of these differences"
      ]
    },
    {
      "cell_type": "markdown",
      "metadata": {
        "id": "m12UvUhdYHOA",
        "colab_type": "text"
      },
      "source": [
        "***Determining Profit pattern w.r.t Sales***"
      ]
    },
    {
      "cell_type": "code",
      "metadata": {
        "id": "IZ8XGFfVX0Ht",
        "colab_type": "code",
        "colab": {
          "base_uri": "https://localhost:8080/",
          "height": 296
        },
        "outputId": "53eb8375-a762-468d-fd6c-05e5e165e635"
      },
      "source": [
        "df_store.plot.scatter(x='Profit', y='Sales')"
      ],
      "execution_count": 66,
      "outputs": [
        {
          "output_type": "execute_result",
          "data": {
            "text/plain": [
              "<matplotlib.axes._subplots.AxesSubplot at 0x7f86d0e76898>"
            ]
          },
          "metadata": {
            "tags": []
          },
          "execution_count": 66
        },
        {
          "output_type": "display_data",
          "data": {
            "image/png": "[encoded data removed]",
            "text/plain": [
              "<Figure size 432x288 with 1 Axes>"
            ]
          },
          "metadata": {
            "tags": [],
            "needs_background": "light"
          }
        }
      ]
    },
    {
      "cell_type": "markdown",
      "metadata": {
        "id": "cBce0yaBZAjz",
        "colab_type": "text"
      },
      "source": [
        "*Inference drawn from above plot*\n",
        "\n",
        "1.  There appears to be equal loss and profit for Sales of amount < 5000  \n",
        "2.  Overall trend of Profit appears positive for Sale amount > 5000 with some outlier (exception) cases \n"
      ]
    },
    {
      "cell_type": "markdown",
      "metadata": {
        "id": "Rv2iAZjLAYMq",
        "colab_type": "text"
      },
      "source": [
        "***Showcasing sales across various Regions***"
      ]
    },
    {
      "cell_type": "code",
      "metadata": {
        "id": "T8NeVIkVAggY",
        "colab_type": "code",
        "colab": {
          "base_uri": "https://localhost:8080/",
          "height": 247
        },
        "outputId": "ac8e3cba-2a67-4035-bd2b-4c7a213304ef"
      },
      "source": [
        "fn = sns.FacetGrid(df_store,col='Region',height=4, aspect=1)\n",
        "fn = fn.map(plt.hist,\"Sales\")\n"
      ],
      "execution_count": 38,
      "outputs": [
        {
          "output_type": "display_data",
          "data": {
            "image/png": "[encoded data removed]",
            "text/plain": [
              "<Figure size 1728x288 with 6 Axes>"
            ]
          },
          "metadata": {
            "tags": [],
            "needs_background": "light"
          }
        }
      ]
    },
    {
      "cell_type": "markdown",
      "metadata": {
        "id": "9QrNuP3VB2dW",
        "colab_type": "text"
      },
      "source": [
        "*Inference drawn from above plot*\n",
        "\n",
        "1.  Region West has maximum number sales  \n",
        "2.  Majority of the sales volume is under 15,000 for all regions \n",
        "\n",
        "\n"
      ]
    },
    {
      "cell_type": "markdown",
      "metadata": {
        "id": "bIRW-OuLDDDw",
        "colab_type": "text"
      },
      "source": [
        "***Showcasing Sales across all the Shipping modes and the Product Containers used***"
      ]
    },
    {
      "cell_type": "code",
      "metadata": {
        "id": "-4OY_5S9DMCs",
        "colab_type": "code",
        "colab": {
          "base_uri": "https://localhost:8080/",
          "height": 549
        },
        "outputId": "81f1594c-bbc3-4497-884e-971acf796976"
      },
      "source": [
        "fn =sns.FacetGrid(df_store,col='Ship_Mode',row='Product_Container',palette=\"GnBu_d\",gridspec_kws={\"width_ratios\": [4, 4]}, height=2.5,aspect=3)\n",
        "fn = fn.map(plt.hist,\"Sales\")"
      ],
      "execution_count": 57,
      "outputs": [
        {
          "output_type": "display_data",
          "data": {
            "image/png": "[encoded data removed]",
            "text/plain": [
              "<Figure size 1080x540 with 6 Axes>"
            ]
          },
          "metadata": {
            "tags": [],
            "needs_background": "light"
          }
        }
      ]
    },
    {
      "cell_type": "markdown",
      "metadata": {
        "id": "WkR2Z-DkJaqT",
        "colab_type": "text"
      },
      "source": [
        ""
      ]
    },
    {
      "cell_type": "markdown",
      "metadata": {
        "id": "HDaHkiruGQK7",
        "colab_type": "text"
      },
      "source": [
        "*Inference drawn from above plot*\n",
        "\n",
        "1.  No of Sales are maximum for Small box container and shipped via Regular Air  \n",
        "2.  Regular Air has higher Sales compared to Express Air mode for all Product Container types\n",
        "\n",
        "Question :Is the Product Container & Ship Mode same for maximum number of Sales & the highest Sales amount ?"
      ]
    },
    {
      "cell_type": "code",
      "metadata": {
        "id": "V7dhzBPvHPbc",
        "colab_type": "code",
        "colab": {
          "base_uri": "https://localhost:8080/",
          "height": 166
        },
        "outputId": "45bfa998-1c08-414f-81cd-025b6eae82df"
      },
      "source": [
        "df_store[ (df_store['Ship_Mode'] == 'Regular Air')].groupby(['Product_Container','Ship_Mode'])[['Sales']].count()"
      ],
      "execution_count": 44,
      "outputs": [
        {
          "output_type": "execute_result",
          "data": {
            "text/html": [
              "<div>\n",
              "<style scoped>\n",
              "    .dataframe tbody tr th:only-of-type {\n",
              "        vertical-align: middle;\n",
              "    }\n",
              "\n",
              "    .dataframe tbody tr th {\n",
              "        vertical-align: top;\n",
              "    }\n",
              "\n",
              "    .dataframe thead th {\n",
              "        text-align: right;\n",
              "    }\n",
              "</style>\n",
              "<table border=\"1\" class=\"dataframe\">\n",
              "  <thead>\n",
              "    <tr style=\"text-align: right;\">\n",
              "      <th></th>\n",
              "      <th></th>\n",
              "      <th>Sales</th>\n",
              "    </tr>\n",
              "    <tr>\n",
              "      <th>Product_Container</th>\n",
              "      <th>Ship_Mode</th>\n",
              "      <th></th>\n",
              "    </tr>\n",
              "  </thead>\n",
              "  <tbody>\n",
              "    <tr>\n",
              "      <th>Large Box</th>\n",
              "      <th>Regular Air</th>\n",
              "      <td>47</td>\n",
              "    </tr>\n",
              "    <tr>\n",
              "      <th>Medium Box</th>\n",
              "      <th>Regular Air</th>\n",
              "      <td>51</td>\n",
              "    </tr>\n",
              "    <tr>\n",
              "      <th>Small Box</th>\n",
              "      <th>Regular Air</th>\n",
              "      <td>481</td>\n",
              "    </tr>\n",
              "  </tbody>\n",
              "</table>\n",
              "</div>"
            ],
            "text/plain": [
              "                               Sales\n",
              "Product_Container Ship_Mode         \n",
              "Large Box         Regular Air     47\n",
              "Medium Box        Regular Air     51\n",
              "Small Box         Regular Air    481"
            ]
          },
          "metadata": {
            "tags": []
          },
          "execution_count": 44
        }
      ]
    },
    {
      "cell_type": "code",
      "metadata": {
        "id": "hT1IQ7dXJdRI",
        "colab_type": "code",
        "colab": {
          "base_uri": "https://localhost:8080/",
          "height": 166
        },
        "outputId": "926c59c5-f30c-4f30-f0db-f9ea792ecd56"
      },
      "source": [
        "df_store[ (df_store['Ship_Mode'] == 'Regular Air')].groupby(['Product_Container','Ship_Mode'])[['Sales']].sum()"
      ],
      "execution_count": 45,
      "outputs": [
        {
          "output_type": "execute_result",
          "data": {
            "text/html": [
              "<div>\n",
              "<style scoped>\n",
              "    .dataframe tbody tr th:only-of-type {\n",
              "        vertical-align: middle;\n",
              "    }\n",
              "\n",
              "    .dataframe tbody tr th {\n",
              "        vertical-align: top;\n",
              "    }\n",
              "\n",
              "    .dataframe thead th {\n",
              "        text-align: right;\n",
              "    }\n",
              "</style>\n",
              "<table border=\"1\" class=\"dataframe\">\n",
              "  <thead>\n",
              "    <tr style=\"text-align: right;\">\n",
              "      <th></th>\n",
              "      <th></th>\n",
              "      <th>Sales</th>\n",
              "    </tr>\n",
              "    <tr>\n",
              "      <th>Product_Container</th>\n",
              "      <th>Ship_Mode</th>\n",
              "      <th></th>\n",
              "    </tr>\n",
              "  </thead>\n",
              "  <tbody>\n",
              "    <tr>\n",
              "      <th>Large Box</th>\n",
              "      <th>Regular Air</th>\n",
              "      <td>252828.8800</td>\n",
              "    </tr>\n",
              "    <tr>\n",
              "      <th>Medium Box</th>\n",
              "      <th>Regular Air</th>\n",
              "      <td>107724.2475</td>\n",
              "    </tr>\n",
              "    <tr>\n",
              "      <th>Small Box</th>\n",
              "      <th>Regular Air</th>\n",
              "      <td>493742.9840</td>\n",
              "    </tr>\n",
              "  </tbody>\n",
              "</table>\n",
              "</div>"
            ],
            "text/plain": [
              "                                     Sales\n",
              "Product_Container Ship_Mode               \n",
              "Large Box         Regular Air  252828.8800\n",
              "Medium Box        Regular Air  107724.2475\n",
              "Small Box         Regular Air  493742.9840"
            ]
          },
          "metadata": {
            "tags": []
          },
          "execution_count": 45
        }
      ]
    },
    {
      "cell_type": "markdown",
      "metadata": {
        "id": "RyacqrvgPWP7",
        "colab_type": "text"
      },
      "source": [
        "***Keeping Profit and Sales as the baseline and analyzing the pattern shown by different Product Category across various Customer Segments***"
      ]
    },
    {
      "cell_type": "code",
      "metadata": {
        "id": "AhE3kQL3LntX",
        "colab_type": "code",
        "colab": {
          "base_uri": "https://localhost:8080/",
          "height": 339
        },
        "outputId": "b9d47bd1-a836-43d0-e660-996c72df0922"
      },
      "source": [
        "fn = sns.FacetGrid(df_store,col='Customer_Segment',hue='Product_Category',hue_kws=dict(marker=[\"^\", \"v\",\"*\"]),height=5)\n",
        "fn = (fn.map(plt.scatter,\"Profit\",\"Sales\").add_legend())"
      ],
      "execution_count": 48,
      "outputs": [
        {
          "output_type": "display_data",
          "data": {
            "image/png": "[encoded data removed]",
            "text/plain": [
              "<Figure size 1550.88x360 with 4 Axes>"
            ]
          },
          "metadata": {
            "tags": [],
            "needs_background": "light"
          }
        }
      ]
    },
    {
      "cell_type": "markdown",
      "metadata": {
        "id": "ZW789dNNPmpO",
        "colab_type": "text"
      },
      "source": [
        "*Some Inferences drawn from above plot*\n",
        "\n",
        "\n",
        "1.   Maximum Products sold for Customer Segment Corporate ,Mimimum for Small Business\n",
        "2.   Product Category Technology is sold the most for Corporate & Consumer Customer Segment\n",
        "3.   Positive trend of Sales to Profit ( More Sales , More profit)  in Corporate Segment\n",
        "\n",
        "\n",
        "\n"
      ]
    }
  ]
}